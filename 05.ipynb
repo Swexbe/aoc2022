{
 "cells": [
  {
   "cell_type": "code",
   "execution_count": 1,
   "outputs": [],
   "source": [
    "import copy\n",
    "import io\n",
    "from pathlib import Path\n",
    "\n",
    "from utils.get_input import get_input\n",
    "\n",
    "# inp = Path(\"./test_input\").read_text()\n",
    "inp = get_input(5)"
   ],
   "metadata": {
    "collapsed": false,
    "pycharm": {
     "name": "#%%\n"
    }
   }
  },
  {
   "cell_type": "code",
   "execution_count": 2,
   "outputs": [],
   "source": [
    "# Parse\n",
    "[stack_str, moves_str] = inp.split(\"\\n\\n\")\n",
    "\n",
    "# Stack\n",
    "stack_str = stack_str.replace(\"    \", \" [ ]\").replace(\"[ ]\", \"\").replace(\" \", \",\").replace(\"[\", \"\").replace(\"]\", \"\")\n",
    "stack = [x.split(\",\") for x in stack_str.splitlines()[:-1]]\n",
    "stack_t = [list(x) for x in zip(*stack)]\n",
    "stack_t = [list(filter(None, x)) for x in stack_t]\n",
    "stack_t = [list(reversed(x)) for x in stack_t]\n",
    "\n",
    "# Moves\n",
    "moves = [(int((x:=l.split(\" \"))[1]), int(x[3]), int(x[5])) for l in moves_str.splitlines()]"
   ],
   "metadata": {
    "collapsed": false,
    "pycharm": {
     "name": "#%%\n"
    }
   }
  },
  {
   "cell_type": "code",
   "execution_count": 3,
   "outputs": [
    {
     "name": "stdout",
     "output_type": "stream",
     "text": [
      "FWNSHLDNZ\n"
     ]
    }
   ],
   "source": [
    "# Part 1\n",
    "stacks = copy.deepcopy(stack_t)\n",
    "for move in moves:\n",
    "    num_move = move[0]\n",
    "    index_from = move[1] - 1\n",
    "    index_to = move[2] - 1\n",
    "    for _ in range(num_move):\n",
    "        item = stacks[index_from].pop()\n",
    "        stacks[index_to].append(item)\n",
    "\n",
    "last_items = \"\".join([x[-1] for x in stacks])\n",
    "\n",
    "print(last_items)"
   ],
   "metadata": {
    "collapsed": false,
    "pycharm": {
     "name": "#%%\n"
    }
   }
  },
  {
   "cell_type": "code",
   "execution_count": 4,
   "outputs": [
    {
     "name": "stdout",
     "output_type": "stream",
     "text": [
      "RNRGDNFQG\n"
     ]
    }
   ],
   "source": [
    "# Part 2\n",
    "stacks = copy.deepcopy(stack_t)\n",
    "for move in moves:\n",
    "    num_move = move[0]\n",
    "    index_from = move[1] - 1\n",
    "    index_to = move[2] - 1\n",
    "\n",
    "    to_add = []\n",
    "    for _ in range(num_move):\n",
    "        to_add.append(stacks[index_from].pop())\n",
    "    to_add.reverse()\n",
    "    stacks[index_to].extend(to_add)\n",
    "\n",
    "last_items = \"\".join([x[-1] for x in stacks])\n",
    "\n",
    "print(last_items)"
   ],
   "metadata": {
    "collapsed": false,
    "pycharm": {
     "name": "#%%\n"
    }
   }
  }
 ],
 "metadata": {
  "kernelspec": {
   "display_name": "Python 3",
   "language": "python",
   "name": "python3"
  },
  "language_info": {
   "codemirror_mode": {
    "name": "ipython",
    "version": 2
   },
   "file_extension": ".py",
   "mimetype": "text/x-python",
   "name": "python",
   "nbconvert_exporter": "python",
   "pygments_lexer": "ipython2",
   "version": "2.7.6"
  }
 },
 "nbformat": 4,
 "nbformat_minor": 0
}