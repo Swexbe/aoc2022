{
 "cells": [
  {
   "cell_type": "code",
   "execution_count": 1,
   "metadata": {
    "collapsed": true
   },
   "outputs": [],
   "source": [
    "import io\n",
    "\n",
    "import pandas as pd\n",
    "\n",
    "from utils.get_input import get_input\n",
    "\n",
    "# inp = Path(\"./test_input\").read_text()\n",
    "inp = get_input(2)\n",
    "\n",
    "df = pd.read_csv(io.StringIO(inp), sep=\" \", header=None, names=[\"opp\", \"you\"])\n",
    "df[\"opp\"] = df[\"opp\"].map({\"A\": 1, \"B\": 2, \"C\": 3})\n",
    "df[\"you\"] = df[\"you\"].map({\"X\": 1, \"Y\": 2, \"Z\": 3})"
   ]
  },
  {
   "cell_type": "code",
   "execution_count": 2,
   "outputs": [
    {
     "name": "stdout",
     "output_type": "stream",
     "text": [
      "15337\n"
     ]
    }
   ],
   "source": [
    "# Part 1\n",
    "score_from_shape = df[\"you\"].sum()\n",
    "score_from_win = (df[\"you\"] == (df[\"opp\"] % 3) + 1).sum() * 6\n",
    "score_from_draw = (df[\"you\"] == df[\"opp\"]).sum() * 3\n",
    "\n",
    "total_score = score_from_shape + score_from_win + score_from_draw\n",
    "print(total_score)"
   ],
   "metadata": {
    "collapsed": false
   }
  },
  {
   "cell_type": "code",
   "execution_count": 3,
   "outputs": [
    {
     "name": "stdout",
     "output_type": "stream",
     "text": [
      "11696\n"
     ]
    }
   ],
   "source": [
    "# Part 2\n",
    "df2 = df.copy()\n",
    "mask = df[\"you\"] == 3\n",
    "df2.loc[mask, \"you\"] = (df2.loc[mask, \"opp\"] % 3) + 1\n",
    "mask = df[\"you\"] == 2\n",
    "df2.loc[mask, \"you\"] = df2.loc[mask, \"opp\"]\n",
    "mask = df[\"you\"] == 1\n",
    "df2.loc[mask, \"you\"] = (df2.loc[mask, \"opp\"] - 2) % 3 + 1\n",
    "\n",
    "score_from_shape = df2[\"you\"].sum()\n",
    "score_from_win = (df2[\"you\"] == (df2[\"opp\"] % 3) + 1).sum() * 6\n",
    "score_from_draw = (df2[\"you\"] == df2[\"opp\"]).sum() * 3\n",
    "\n",
    "total_score = score_from_shape + score_from_win + score_from_draw\n",
    "print(total_score)"
   ],
   "metadata": {
    "collapsed": false
   }
  }
 ],
 "metadata": {
  "kernelspec": {
   "display_name": "Python 3",
   "language": "python",
   "name": "python3"
  },
  "language_info": {
   "codemirror_mode": {
    "name": "ipython",
    "version": 2
   },
   "file_extension": ".py",
   "mimetype": "text/x-python",
   "name": "python",
   "nbconvert_exporter": "python",
   "pygments_lexer": "ipython2",
   "version": "2.7.6"
  }
 },
 "nbformat": 4,
 "nbformat_minor": 0
}
