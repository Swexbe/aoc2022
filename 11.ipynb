{
 "cells": [
  {
   "cell_type": "code",
   "execution_count": 1,
   "outputs": [],
   "source": [
    "import copy\n",
    "from functools import reduce\n",
    "\n",
    "import numpy as np\n",
    "\n",
    "from utils.get_input import get_input\n",
    "\n",
    "# inp = Path(\"./test_input\").read_text()\n",
    "inp = get_input(11)"
   ],
   "metadata": {
    "collapsed": false
   }
  },
  {
   "cell_type": "code",
   "execution_count": 2,
   "outputs": [],
   "source": [
    "# Parse\n",
    "monkeys = inp.split(\"\\n\\n\")\n",
    "monkeys_parsed = [{\n",
    "    \"items\": list(map(int, ((l := m.splitlines())[1].split(\":\")[1].split(\",\")))),\n",
    "    \"op\": ((x := l[2].split(\"= old\")[1].strip().split(\" \"))[0], int(x[1]) if x[1].isdigit() else x[1]),\n",
    "    \"test\": int(l[3].split(\"divisible by \")[1]),\n",
    "    True: int(l[4].split(\"monkey \")[1]),\n",
    "    False: int(l[5].split(\"monkey \")[1])\n",
    "} for m in monkeys]"
   ],
   "metadata": {
    "collapsed": false
   }
  },
  {
   "cell_type": "code",
   "execution_count": 3,
   "outputs": [
    {
     "name": "stdout",
     "output_type": "stream",
     "text": [
      "110888\n"
     ]
    }
   ],
   "source": [
    "# Part 1\n",
    "monkeys1 = copy.deepcopy(monkeys_parsed)\n",
    "inspected = [0] * len(monkeys1)\n",
    "\n",
    "\n",
    "def play_round(ms):\n",
    "    for i, m in enumerate(ms):\n",
    "        for item in m[\"items\"]:\n",
    "            inspected[i] += 1\n",
    "            # Do worry op\n",
    "            match m[\"op\"]:\n",
    "                case (\"*\", int(v)):\n",
    "                    new_worry = item * v\n",
    "                case (\"+\", int(v)):\n",
    "                    new_worry = item + v\n",
    "                case (\"*\", str(v)):\n",
    "                    new_worry = item * item\n",
    "                case (\"+\", str(v)):\n",
    "                    new_worry = item + item\n",
    "            # Bored\n",
    "            new_worry //= 3\n",
    "            # Choose target\n",
    "            target = m[new_worry % m[\"test\"] == 0]\n",
    "            # Throw\n",
    "            ms[target][\"items\"].append(new_worry)\n",
    "        m[\"items\"] = []\n",
    "\n",
    "\n",
    "for i in range(20):\n",
    "    play_round(monkeys1)\n",
    "\n",
    "res = np.prod(sorted(inspected)[-2:])\n",
    "print(res)"
   ],
   "metadata": {
    "collapsed": false
   }
  },
  {
   "cell_type": "code",
   "execution_count": 4,
   "outputs": [
    {
     "name": "stdout",
     "output_type": "stream",
     "text": [
      "25590400731\n"
     ]
    }
   ],
   "source": [
    "# Part 2\n",
    "monkeys1 = copy.deepcopy(monkeys_parsed)\n",
    "inspected = [0] * len(monkeys1)\n",
    "\n",
    "tests = [m[\"test\"] for m in monkeys1]\n",
    "\n",
    "\n",
    "def chinese_remainder(m, a):\n",
    "    sum = 0\n",
    "    prod = reduce(lambda acc, b: acc * b, m)\n",
    "    for n_i, a_i in zip(m, a):\n",
    "        p = prod // n_i\n",
    "        sum += a_i * mul_inv(p, n_i) * p\n",
    "    return sum % prod\n",
    "\n",
    "\n",
    "def mul_inv(a, b):\n",
    "    b0 = b\n",
    "    x0, x1 = 0, 1\n",
    "    if b == 1: return 1\n",
    "    while a > 1:\n",
    "        q = a // b\n",
    "        a, b = b, a % b\n",
    "        x0, x1 = x1 - q * x0, x0\n",
    "    if x1 < 0: x1 += b0\n",
    "    return x1\n",
    "\n",
    "\n",
    "def play_round(ms):\n",
    "    for i, m in enumerate(ms):\n",
    "        for item in m[\"items\"]:\n",
    "            inspected[i] += 1\n",
    "            # Do worry op\n",
    "            match m[\"op\"]:\n",
    "                case (\"*\", int(v)):\n",
    "                    new_worry = item * v\n",
    "                case (\"+\", int(v)):\n",
    "                    new_worry = item + v\n",
    "                case (\"*\", str(v)):\n",
    "                    new_worry = item * item\n",
    "                case (\"+\", str(v)):\n",
    "                    new_worry = item + item\n",
    "\n",
    "            worries = [new_worry % t for t in tests]\n",
    "            new_worry = chinese_remainder(tests, worries)\n",
    "            # Choose target\n",
    "            target = m[new_worry % m[\"test\"] == 0]\n",
    "            # Throw\n",
    "            ms[target][\"items\"].append(new_worry)\n",
    "        m[\"items\"] = []\n",
    "\n",
    "\n",
    "for i in range(10000):\n",
    "    play_round(monkeys1)\n",
    "\n",
    "res = sorted(inspected)[-2:]\n",
    "print(res[0] * res[1])"
   ],
   "metadata": {
    "collapsed": false
   }
  }
 ],
 "metadata": {
  "kernelspec": {
   "display_name": "Python 3",
   "language": "python",
   "name": "python3"
  },
  "language_info": {
   "codemirror_mode": {
    "name": "ipython",
    "version": 2
   },
   "file_extension": ".py",
   "mimetype": "text/x-python",
   "name": "python",
   "nbconvert_exporter": "python",
   "pygments_lexer": "ipython2",
   "version": "2.7.6"
  }
 },
 "nbformat": 4,
 "nbformat_minor": 0
}
