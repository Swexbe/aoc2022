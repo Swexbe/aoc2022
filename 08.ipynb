{
 "cells": [
  {
   "cell_type": "code",
   "execution_count": 1,
   "outputs": [],
   "source": [
    "import numpy as np\n",
    "\n",
    "from utils.get_input import get_input\n",
    "\n",
    "# inp = Path(\"./test_input\").read_text()\n",
    "inp = get_input(8)"
   ],
   "metadata": {
    "collapsed": false
   }
  },
  {
   "cell_type": "code",
   "execution_count": 2,
   "outputs": [],
   "source": [
    "# Parse\n",
    "trees = [list(map(int, row)) for row in inp.splitlines()]"
   ],
   "metadata": {
    "collapsed": false
   }
  },
  {
   "cell_type": "code",
   "execution_count": 3,
   "outputs": [
    {
     "data": {
      "text/plain": "1832"
     },
     "execution_count": 3,
     "metadata": {},
     "output_type": "execute_result"
    }
   ],
   "source": [
    "# Part 1\n",
    "\n",
    "len_x = len(trees[0])\n",
    "len_y = len(trees)\n",
    "\n",
    "max_col = [0] * len_x\n",
    "visible = np.full((len_x, len_y), False)\n",
    "\n",
    "\n",
    "def check_visible(trees, visible, right, bottom):\n",
    "    index = np.ndindex(len_y, len_x) if bottom else np.ndindex(len_x, len_y)\n",
    "    for i, j in index:\n",
    "        if j == 0:\n",
    "            min_i = -1\n",
    "        if right:\n",
    "            j = -1 - j\n",
    "        if bottom:\n",
    "            (x, y) = (j, i)\n",
    "        else:\n",
    "            (x, y) = (i, j)\n",
    "        if (c := trees[x][y]) > min_i:\n",
    "            visible[x][y] = True\n",
    "            min_i = c\n",
    "\n",
    "\n",
    "check_visible(trees, visible, False, False)\n",
    "check_visible(trees, visible, False, True)\n",
    "check_visible(trees, visible, True, True)\n",
    "check_visible(trees, visible, True, False)\n",
    "\n",
    "sum([sum(r) for r in visible])"
   ],
   "metadata": {
    "collapsed": false
   }
  },
  {
   "cell_type": "code",
   "execution_count": 4,
   "outputs": [
    {
     "name": "stdout",
     "output_type": "stream",
     "text": [
      "157320\n"
     ]
    }
   ],
   "source": [
    "# Part 2\n",
    "index = np.ndindex(len_x, len_y)\n",
    "\n",
    "\n",
    "def check_vis(trees, pos_x, pos_y):\n",
    "    height = trees[pos_y][pos_x]\n",
    "    m1 = 0\n",
    "    m2 = 0\n",
    "    m3 = 0\n",
    "    m4 = 0\n",
    "    for i in range(pos_x + 1, len_x):\n",
    "        m1 += 1\n",
    "        if trees[pos_y][i] >= height:\n",
    "            break\n",
    "    for i in range(pos_x - 1, -1, -1):\n",
    "        m2 += 1\n",
    "        if trees[pos_y][i] >= height:\n",
    "            break\n",
    "    for i in range(pos_y + 1, len_y):\n",
    "        m3 += 1\n",
    "        if trees[i][pos_x] >= height:\n",
    "            break\n",
    "    for i in range(pos_y - 1, -1, -1):\n",
    "        m4 += 1\n",
    "        if trees[i][pos_x] >= height:\n",
    "            break\n",
    "    return m1 * m2 * m3 * m4\n",
    "\n",
    "\n",
    "max_vis = 0\n",
    "for i, j in index:\n",
    "    if (res := check_vis(trees, i, j)) > max_vis:\n",
    "        max_vis = res\n",
    "\n",
    "print(max_vis)"
   ],
   "metadata": {
    "collapsed": false
   }
  }
 ],
 "metadata": {
  "kernelspec": {
   "display_name": "Python 3",
   "language": "python",
   "name": "python3"
  },
  "language_info": {
   "codemirror_mode": {
    "name": "ipython",
    "version": 2
   },
   "file_extension": ".py",
   "mimetype": "text/x-python",
   "name": "python",
   "nbconvert_exporter": "python",
   "pygments_lexer": "ipython2",
   "version": "2.7.6"
  }
 },
 "nbformat": 4,
 "nbformat_minor": 0
}
