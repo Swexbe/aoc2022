{
 "cells": [
  {
   "cell_type": "code",
   "execution_count": 10,
   "outputs": [],
   "source": [
    "import itertools\n",
    "import typing\n",
    "from pathlib import Path\n",
    "\n",
    "import numpy as np\n",
    "from more_itertools import windowed\n",
    "\n",
    "from utils.get_input import get_input\n",
    "\n",
    "# inp = Path(\"./test_input\").read_text()\n",
    "inp = get_input(10)"
   ],
   "metadata": {
    "collapsed": false
   }
  },
  {
   "cell_type": "code",
   "execution_count": 11,
   "outputs": [],
   "source": [
    "# Parse\n",
    "ops = [((s := l.split(\" \"))[0], int(s[1] if len(s) > 1 else 0)) for l in inp.splitlines()]"
   ],
   "metadata": {
    "collapsed": false
   }
  },
  {
   "cell_type": "code",
   "execution_count": 12,
   "outputs": [
    {
     "name": "stdout",
     "output_type": "stream",
     "text": [
      "14520\n"
     ]
    }
   ],
   "source": [
    "# Part 1\n",
    "def check_cycle(cyc, res, x):\n",
    "    if cyc in [20, 60, 100, 140, 180, 220]:\n",
    "        res.append(cyc * x)\n",
    "\n",
    "x = 1\n",
    "res =[]\n",
    "cyc = 1\n",
    "for op in ops:\n",
    "    match op[0]:\n",
    "        case \"noop\":\n",
    "            cyc += 1\n",
    "            check_cycle(cyc, res, x)\n",
    "        case \"addx\":\n",
    "            cyc += 1\n",
    "            check_cycle(cyc, res, x)\n",
    "            cyc += 1\n",
    "            x += op[1]\n",
    "            check_cycle(cyc, res, x)\n",
    "print(sum(res))"
   ],
   "metadata": {
    "collapsed": false
   }
  },
  {
   "cell_type": "code",
   "execution_count": 15,
   "outputs": [
    {
     "name": "stdout",
     "output_type": "stream",
     "text": [
      "[['.' '#' '#' '.' '.' '#' '#' '#' '#' '.' '#' '#' '#' '.' '.' '.' '#' '#' '.' '.' '#' '#' '#' '#' '.' '#' '#' '#' '#' '.' '.' '.' '#' '#' '.' '#' '#' '#' '.' '.']\n",
      " ['#' '.' '.' '#' '.' '.' '.' '.' '#' '.' '#' '.' '.' '#' '.' '#' '.' '.' '#' '.' '.' '.' '.' '#' '.' '#' '.' '.' '.' '.' '.' '.' '.' '#' '.' '#' '.' '.' '#' '.']\n",
      " ['#' '.' '.' '#' '.' '.' '.' '#' '.' '.' '#' '#' '#' '.' '.' '#' '.' '.' '.' '.' '.' '.' '#' '.' '.' '#' '#' '#' '.' '.' '.' '.' '.' '#' '.' '#' '#' '#' '.' '.']\n",
      " ['#' '#' '#' '.' '.' '.' '#' '.' '.' '.' '#' '.' '.' '#' '.' '#' '.' '#' '#' '.' '.' '#' '.' '.' '.' '#' '.' '.' '.' '.' '.' '.' '.' '#' '.' '#' '.' '.' '#' '.']\n",
      " ['#' '.' '.' '.' '.' '#' '.' '.' '.' '.' '#' '.' '.' '#' '.' '#' '.' '.' '#' '.' '#' '.' '.' '.' '.' '#' '.' '.' '.' '.' '#' '.' '.' '#' '.' '#' '.' '.' '#' '.']\n",
      " ['#' '.' '.' '.' '.' '#' '#' '#' '#' '.' '#' '#' '#' '.' '.' '.' '#' '#' '#' '.' '#' '#' '#' '#' '.' '#' '#' '#' '#' '.' '.' '#' '#' '.' '.' '#' '#' '#' '.' '.']]\n"
     ]
    }
   ],
   "source": [
    "# Part 2\n",
    "def check_cycle_draw(cyc, canvas, x):\n",
    "    row = cyc // 40\n",
    "    col = cyc % 40\n",
    "    if col in [x - 1, x, x + 1]:\n",
    "        canvas[row, col] = \"#\"\n",
    "\n",
    "x = 1\n",
    "canvas = np.full((6, 40), \".\")\n",
    "cyc = 0\n",
    "for op in ops:\n",
    "    match op[0]:\n",
    "        case \"noop\":\n",
    "            cyc += 1\n",
    "            check_cycle_draw(cyc, canvas, x)\n",
    "        case \"addx\":\n",
    "            cyc += 1\n",
    "            check_cycle_draw(cyc, canvas, x)\n",
    "            cyc += 1\n",
    "            x += op[1]\n",
    "            check_cycle_draw(cyc, canvas, x)\n",
    "\n",
    "np.set_printoptions(linewidth=np.inf)\n",
    "print(canvas)"
   ],
   "metadata": {
    "collapsed": false
   }
  }
 ],
 "metadata": {
  "kernelspec": {
   "display_name": "Python 3",
   "language": "python",
   "name": "python3"
  },
  "language_info": {
   "codemirror_mode": {
    "name": "ipython",
    "version": 2
   },
   "file_extension": ".py",
   "mimetype": "text/x-python",
   "name": "python",
   "nbconvert_exporter": "python",
   "pygments_lexer": "ipython2",
   "version": "2.7.6"
  }
 },
 "nbformat": 4,
 "nbformat_minor": 0
}
