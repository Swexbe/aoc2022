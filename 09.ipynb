{
 "cells": [
  {
   "cell_type": "code",
   "execution_count": 1,
   "outputs": [],
   "source": [
    "import numpy as np\n",
    "\n",
    "from utils.get_input import get_input\n",
    "\n",
    "# inp = Path(\"./test_input\").read_text()\n",
    "inp = get_input(9)"
   ],
   "metadata": {
    "collapsed": false
   }
  },
  {
   "cell_type": "code",
   "execution_count": 2,
   "outputs": [],
   "source": [
    "# Parse\n",
    "steps = [((s := l.split(\" \"))[0], int(s[1])) for l in inp.splitlines()]"
   ],
   "metadata": {
    "collapsed": false
   }
  },
  {
   "cell_type": "code",
   "execution_count": 3,
   "outputs": [
    {
     "name": "stdout",
     "output_type": "stream",
     "text": [
      "6212\n"
     ]
    }
   ],
   "source": [
    "# Part 1\n",
    "size = 1000\n",
    "state = {\n",
    "    \"h_x\": size // 2,\n",
    "    \"h_y\": size // 2,\n",
    "    \"t_x\": size // 2,\n",
    "    \"t_y\": size // 2,\n",
    "    \"visited\": np.full((size, size), False)\n",
    "}\n",
    "\n",
    "\n",
    "def do_step(d, state):\n",
    "    old_hx = state[\"h_x\"]\n",
    "    old_hy = state[\"h_y\"]\n",
    "    match d:\n",
    "        case \"R\":\n",
    "            state[\"h_x\"] += 1\n",
    "        case \"L\":\n",
    "            state[\"h_x\"] -= 1\n",
    "        case \"U\":\n",
    "            state[\"h_y\"] += 1\n",
    "        case \"D\":\n",
    "            state[\"h_y\"] -= 1\n",
    "    if abs(state[\"h_x\"] - state[\"t_x\"]) >= 2 or abs(state[\"h_y\"] - state[\"t_y\"]) >= 2:\n",
    "        state[\"t_x\"] = old_hx\n",
    "        state[\"t_y\"] = old_hy\n",
    "    state[\"visited\"][state[\"t_x\"], state[\"t_y\"]] = True\n",
    "\n",
    "\n",
    "for d, n in steps:\n",
    "    for _ in range(n):\n",
    "        do_step(d, state)\n",
    "\n",
    "print(np.sum(state[\"visited\"]))"
   ],
   "metadata": {
    "collapsed": false
   }
  },
  {
   "cell_type": "code",
   "execution_count": 4,
   "outputs": [
    {
     "name": "stdout",
     "output_type": "stream",
     "text": [
      "2522\n"
     ]
    }
   ],
   "source": [
    "# Part 2\n",
    "size = 1000\n",
    "state = {\n",
    "    \"pos\": np.full((10, 2), size // 2),\n",
    "    \"visited\": np.full((size, size), False)\n",
    "}\n",
    "\n",
    "\n",
    "def do_step(d, state):\n",
    "    pos = state[\"pos\"]\n",
    "    match d:\n",
    "        case \"R\":\n",
    "            pos[0][0] += 1\n",
    "        case \"L\":\n",
    "            pos[0][0] -= 1\n",
    "        case \"U\":\n",
    "            pos[0][1] += 1\n",
    "        case \"D\":\n",
    "            pos[0][1] -= 1\n",
    "    for i in range(1, len(pos)):\n",
    "        d_x = pos[i - 1][0] - pos[i][0]\n",
    "        d_y = pos[i - 1][1] - pos[i][1]\n",
    "        if abs(d_x) >= 2 or abs(d_y) >= 2:\n",
    "            pos[i][0] += np.sign(d_x)\n",
    "            pos[i][1] += np.sign(d_y)\n",
    "\n",
    "    state[\"visited\"][pos[-1][0], pos[-1][1]] = True\n",
    "\n",
    "\n",
    "for d, n in steps:\n",
    "    for _ in range(n):\n",
    "        do_step(d, state)\n",
    "\n",
    "print(np.sum(state[\"visited\"]))"
   ],
   "metadata": {
    "collapsed": false
   }
  }
 ],
 "metadata": {
  "kernelspec": {
   "display_name": "Python 3",
   "language": "python",
   "name": "python3"
  },
  "language_info": {
   "codemirror_mode": {
    "name": "ipython",
    "version": 2
   },
   "file_extension": ".py",
   "mimetype": "text/x-python",
   "name": "python",
   "nbconvert_exporter": "python",
   "pygments_lexer": "ipython2",
   "version": "2.7.6"
  }
 },
 "nbformat": 4,
 "nbformat_minor": 0
}
