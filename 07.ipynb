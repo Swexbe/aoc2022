{
 "cells": [
  {
   "cell_type": "code",
   "execution_count": 1,
   "outputs": [],
   "source": [
    "import typing\n",
    "from pathlib import Path\n",
    "\n",
    "from more_itertools import windowed\n",
    "\n",
    "from utils.get_input import get_input\n",
    "\n",
    "# inp = Path(\"./test_input\").read_text()\n",
    "inp = get_input(7)"
   ],
   "metadata": {
    "collapsed": false,
    "pycharm": {
     "name": "#%%\n"
    }
   }
  },
  {
   "cell_type": "code",
   "execution_count": 2,
   "outputs": [],
   "source": [
    "# Parse\n",
    "cmds = inp.split(\"$\")[1:]\n",
    "def parseCmd(cmd: str) -> (str, str, [str]):\n",
    "    lines = cmd.splitlines()\n",
    "    op = lines[0]\n",
    "    op_split = op.split(\" \")\n",
    "    op1 = op_split[1]\n",
    "    op2 = op_split[2] if len(op_split) > 2 else None\n",
    "\n",
    "    cmd_struct = (op1, op2, lines[1:])\n",
    "    return cmd_struct\n",
    "\n",
    "cmds2 = [parseCmd(c) for c in cmds]"
   ],
   "metadata": {
    "collapsed": false,
    "pycharm": {
     "name": "#%%\n"
    }
   }
  },
  {
   "cell_type": "code",
   "execution_count": 3,
   "outputs": [
    {
     "name": "stdout",
     "output_type": "stream",
     "text": [
      "1908462\n"
     ]
    }
   ],
   "source": [
    "# Part 1\n",
    "cwd_path = [{}]\n",
    "for (op1, op2, out) in cmds2:\n",
    "    match op1:\n",
    "        case \"cd\":\n",
    "            match op2:\n",
    "                case \"/\":\n",
    "                    cwd_path = cwd_path[:1]\n",
    "                case \"..\":\n",
    "                    cwd_path.pop()\n",
    "                case _:\n",
    "                    child_dict = cwd_path[-1]\n",
    "                    target = child_dict[op2]\n",
    "                    cwd_path.append(target)\n",
    "        case \"ls\":\n",
    "            for fd in out:\n",
    "                [fd1, fd2] = fd.split(\" \")\n",
    "                child_dict = cwd_path[-1]\n",
    "                if fd1 == \"dir\":\n",
    "                    child_dict[fd2] = {}\n",
    "                else:\n",
    "                    child_dict[fd2] = int(fd1)\n",
    "\n",
    "def sum_files(root: typing.Dict, dirs, min_size:int = 100000) -> int:\n",
    "    sum_ = 0\n",
    "    for f in root.values():\n",
    "        match f:\n",
    "            case int() as size:\n",
    "                sum_ += size\n",
    "            case {**_rest} as dic:\n",
    "                sum_subdir = sum_files(dic, dirs, min_size)\n",
    "                sum_ += sum_subdir\n",
    "                if sum_subdir <= 100000:\n",
    "                    dirs.append(sum_subdir)\n",
    "    return sum_\n",
    "\n",
    "dirs_under_max = []\n",
    "sum_files(cwd_path[0], dirs_under_max)\n",
    "\n",
    "print(sum(dirs_under_max))"
   ],
   "metadata": {
    "collapsed": false,
    "pycharm": {
     "name": "#%%\n"
    }
   }
  },
  {
   "cell_type": "code",
   "execution_count": 4,
   "outputs": [
    {
     "name": "stdout",
     "output_type": "stream",
     "text": [
      "3979145\n"
     ]
    }
   ],
   "source": [
    "# Part 2\n",
    "cwd_path = [{}]\n",
    "for (op1, op2, out) in cmds2:\n",
    "    match op1:\n",
    "        case \"cd\":\n",
    "            match op2:\n",
    "                case \"/\":\n",
    "                    cwd_path = cwd_path[:1]\n",
    "                case \"..\":\n",
    "                    cwd_path.pop()\n",
    "                case _:\n",
    "                    child_dict = cwd_path[-1]\n",
    "                    target = child_dict[op2]\n",
    "                    cwd_path.append(target)\n",
    "        case \"ls\":\n",
    "            for fd in out:\n",
    "                [fd1, fd2] = fd.split(\" \")\n",
    "                child_dict = cwd_path[-1]\n",
    "                if fd1 == \"dir\":\n",
    "                    child_dict[fd2] = {}\n",
    "                else:\n",
    "                    child_dict[fd2] = int(fd1)\n",
    "\n",
    "def sum_files(root: typing.Dict, dirs, min_size:int = 100000) -> int:\n",
    "    sum_ = 0\n",
    "    for f in root.values():\n",
    "        match f:\n",
    "            case int() as size:\n",
    "                sum_ += size\n",
    "            case {**_rest} as dic:\n",
    "                sum_subdir = sum_files(dic, dirs, min_size)\n",
    "                sum_ += sum_subdir\n",
    "                dirs.append(sum_subdir)\n",
    "    return sum_\n",
    "\n",
    "all_dirs = []\n",
    "sum_tot = sum_files(cwd_path[0], all_dirs)\n",
    "\n",
    "free_space = 70000000 - sum_tot\n",
    "to_free = 30000000 - free_space\n",
    "\n",
    "\n",
    "smallest_to_del = 70000000\n",
    "for siz in all_dirs:\n",
    "    if to_free <= siz < smallest_to_del:\n",
    "        smallest_to_del = siz\n",
    "\n",
    "res = smallest_to_del if smallest_to_del != 70000000 else sum_tot\n",
    "print(res)"
   ],
   "metadata": {
    "collapsed": false,
    "pycharm": {
     "name": "#%%\n"
    }
   }
  }
 ],
 "metadata": {
  "kernelspec": {
   "display_name": "Python 3",
   "language": "python",
   "name": "python3"
  },
  "language_info": {
   "codemirror_mode": {
    "name": "ipython",
    "version": 2
   },
   "file_extension": ".py",
   "mimetype": "text/x-python",
   "name": "python",
   "nbconvert_exporter": "python",
   "pygments_lexer": "ipython2",
   "version": "2.7.6"
  }
 },
 "nbformat": 4,
 "nbformat_minor": 0
}