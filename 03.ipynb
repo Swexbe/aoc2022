{
 "cells": [
  {
   "cell_type": "code",
   "execution_count": 1,
   "metadata": {
    "collapsed": true
   },
   "outputs": [],
   "source": [
    "from more_itertools import chunked\n",
    "\n",
    "from utils.get_input import get_input\n",
    "\n",
    "# inp = Path(\"./test_input\").read_text()\n",
    "inp = get_input(3)"
   ]
  },
  {
   "cell_type": "code",
   "execution_count": 2,
   "outputs": [
    {
     "name": "stdout",
     "output_type": "stream",
     "text": [
      "7691\n"
     ]
    }
   ],
   "source": [
    "# Part 1\n",
    "sacks = [[set(x[(half := len(x) // 2):]), set(x[:half])] for x in inp.splitlines()]\n",
    "intersect = [s[0].intersection(s[1]).pop() for s in sacks]\n",
    "points = sum([ord(x) - ord(\"a\") + 1 if x.islower() else ord(x) - ord(\"A\") + 27 for x in intersect])\n",
    "print(points)"
   ],
   "metadata": {
    "collapsed": false
   }
  },
  {
   "cell_type": "code",
   "execution_count": 3,
   "outputs": [
    {
     "name": "stdout",
     "output_type": "stream",
     "text": [
      "2508\n"
     ]
    }
   ],
   "source": [
    "# Part 2\n",
    "sacks = [set(x) for x in inp.splitlines()]\n",
    "groups = chunked(sacks, 3)\n",
    "intersect = [set.intersection(*g).pop() for g in groups]\n",
    "points = sum([ord(x) - ord(\"a\") + 1 if x.islower() else ord(x) - ord(\"A\") + 27 for x in intersect])\n",
    "print(points)"
   ],
   "metadata": {
    "collapsed": false
   }
  }
 ],
 "metadata": {
  "kernelspec": {
   "display_name": "Python 3",
   "language": "python",
   "name": "python3"
  },
  "language_info": {
   "codemirror_mode": {
    "name": "ipython",
    "version": 2
   },
   "file_extension": ".py",
   "mimetype": "text/x-python",
   "name": "python",
   "nbconvert_exporter": "python",
   "pygments_lexer": "ipython2",
   "version": "2.7.6"
  }
 },
 "nbformat": 4,
 "nbformat_minor": 0
}
